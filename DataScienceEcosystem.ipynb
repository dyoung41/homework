{
 "cells": [
  {
   "cell_type": "markdown",
   "id": "641ed55f-34b4-4ae1-96f7-7b08f84d4456",
   "metadata": {},
   "source": [
    "# Data Science Ecosystem and Tooks "
   ]
  },
  {
   "cell_type": "markdown",
   "id": "6e32a621-5fb0-4b19-b827-26ef8d5d33c1",
   "metadata": {},
   "source": [
    "In this notebook, Data Science Tools and Ecosystem are summarized."
   ]
  },
  {
   "cell_type": "markdown",
   "id": "07dfa265-1a3b-46bc-81c0-78cd306102fd",
   "metadata": {},
   "source": [
    "**Objectives:**\n",
    "* Name popular languages used in Data Science\n",
    "* Name common libraries used by Data Scientists \n",
    "* Learn Data Science Tools commonly used in Data Science\n",
    "* Sample Python equations for arithmetic expression "
   ]
  },
  {
   "cell_type": "markdown",
   "id": "b9601646-766a-440f-9fe0-87e0e0c404f1",
   "metadata": {},
   "source": [
    "Some of the popular languages used in Data Science: \n",
    "1. SQL\n",
    "2. Python\n",
    "3. Julia\n",
    "4. Java\n",
    "5. Swift"
   ]
  },
  {
   "cell_type": "markdown",
   "id": "ad32277e-8780-4690-b5ee-fe26591ead0c",
   "metadata": {},
   "source": [
    "Some of the common libraries used by Data Scientists:\n",
    "1. Tensorflow\n",
    "2. Matplotlib\n",
    "3. NumPy\n",
    "4. Pandas\n",
    "5. Seaborn"
   ]
  },
  {
   "cell_type": "code",
   "execution_count": 17,
   "id": "c4c973de-126f-4c23-9bf4-1e9d5cf2a76d",
   "metadata": {},
   "outputs": [
    {
     "data": {
      "text/html": [
       "<style>\n",
       "table {float:left}\n",
       "</style>\n"
      ],
      "text/plain": [
       "<IPython.core.display.HTML object>"
      ]
     },
     "metadata": {},
     "output_type": "display_data"
    }
   ],
   "source": [
    "%%html\n",
    "<style>\n",
    "table {float:left}\n",
    "</style>"
   ]
  },
  {
   "cell_type": "markdown",
   "id": "84f38c23-a174-4ffe-9ead-f64626ed69f5",
   "metadata": {},
   "source": [
    "|Data Science Tools|\n",
    "|---------|\n",
    "|Apache Spark|\n",
    "|Jupyter Labs|\n",
    "|Rstudio|\n",
    "|Zepplin|\n",
    "\n"
   ]
  },
  {
   "cell_type": "markdown",
   "id": "b17d0919-58d5-4bd1-a262-c56c31b26902",
   "metadata": {},
   "source": [
    "### Below are examples of evaluating arthmetic expressions in Python"
   ]
  },
  {
   "cell_type": "code",
   "execution_count": 20,
   "id": "12a94ff6-7a47-4f73-b1ef-5e3d34dcdaaf",
   "metadata": {},
   "outputs": [
    {
     "name": "stdout",
     "output_type": "stream",
     "text": [
      "17\n"
     ]
    }
   ],
   "source": [
    "#This is an expression to multipy numbers then add integers \n",
    "x = (3*4)+5\n",
    "print(x)"
   ]
  },
  {
   "cell_type": "code",
   "execution_count": 21,
   "id": "9e3b53c0-aa2b-49f3-8bf9-8a288350b61c",
   "metadata": {},
   "outputs": [
    {
     "name": "stdout",
     "output_type": "stream",
     "text": [
      "3.3333333333333335\n"
     ]
    }
   ],
   "source": [
    "#This code changes minutes into hours by dividing 200 by 60\n",
    "x = (200/60)\n",
    "print(x)\n"
   ]
  },
  {
   "cell_type": "markdown",
   "id": "d33923a4-4e27-4733-9b69-d1cf42651c05",
   "metadata": {},
   "source": [
    "## Author \n",
    "Dusti"
   ]
  },
  {
   "cell_type": "code",
   "execution_count": null,
   "id": "0db3602b-47cb-4151-b654-1d373b50fe4b",
   "metadata": {},
   "outputs": [],
   "source": []
  }
 ],
 "metadata": {
  "kernelspec": {
   "display_name": "Python 3 (ipykernel)",
   "language": "python",
   "name": "python3"
  },
  "language_info": {
   "codemirror_mode": {
    "name": "ipython",
    "version": 3
   },
   "file_extension": ".py",
   "mimetype": "text/x-python",
   "name": "python",
   "nbconvert_exporter": "python",
   "pygments_lexer": "ipython3",
   "version": "3.13.2"
  }
 },
 "nbformat": 4,
 "nbformat_minor": 5
}
